{
 "cells": [
  {
   "cell_type": "code",
   "execution_count": 1,
   "metadata": {
    "collapsed": true
   },
   "outputs": [],
   "source": [
    "import numpy as np\n",
    "import pandas as pd\n",
    "import datetime\n",
    "import time\n",
    "\n",
    "import seaborn as sns\n",
    "import matplotlib.pyplot as plt\n",
    "import matplotlib as mpl"
   ]
  },
  {
   "cell_type": "code",
   "execution_count": 5,
   "metadata": {
    "collapsed": false
   },
   "outputs": [
    {
     "data": {
      "text/html": [
       "<div>\n",
       "<table border=\"1\" class=\"dataframe\">\n",
       "  <thead>\n",
       "    <tr style=\"text-align: right;\">\n",
       "      <th></th>\n",
       "      <th>Date</th>\n",
       "      <th>Price</th>\n",
       "      <th>Open</th>\n",
       "      <th>High</th>\n",
       "      <th>Low</th>\n",
       "      <th>Volume</th>\n",
       "      <th>Change%</th>\n",
       "    </tr>\n",
       "  </thead>\n",
       "  <tbody>\n",
       "    <tr>\n",
       "      <th>0</th>\n",
       "      <td>Jun 19, 2017</td>\n",
       "      <td>1373.10</td>\n",
       "      <td>1372.44</td>\n",
       "      <td>1373.10</td>\n",
       "      <td>1372.26</td>\n",
       "      <td>6.20M</td>\n",
       "      <td>0.0006</td>\n",
       "    </tr>\n",
       "    <tr>\n",
       "      <th>1</th>\n",
       "      <td>Jun 16, 2017</td>\n",
       "      <td>1372.27</td>\n",
       "      <td>1371.70</td>\n",
       "      <td>1374.33</td>\n",
       "      <td>1371.10</td>\n",
       "      <td>58.80M</td>\n",
       "      <td>0.0004</td>\n",
       "    </tr>\n",
       "    <tr>\n",
       "      <th>2</th>\n",
       "      <td>Jun 15, 2017</td>\n",
       "      <td>1371.70</td>\n",
       "      <td>1378.95</td>\n",
       "      <td>1384.14</td>\n",
       "      <td>1369.99</td>\n",
       "      <td>159.24M</td>\n",
       "      <td>-0.0053</td>\n",
       "    </tr>\n",
       "    <tr>\n",
       "      <th>3</th>\n",
       "      <td>Jun 14, 2017</td>\n",
       "      <td>1378.95</td>\n",
       "      <td>1380.79</td>\n",
       "      <td>1388.13</td>\n",
       "      <td>1378.37</td>\n",
       "      <td>87.17M</td>\n",
       "      <td>-0.0013</td>\n",
       "    </tr>\n",
       "    <tr>\n",
       "      <th>4</th>\n",
       "      <td>Jun 13, 2017</td>\n",
       "      <td>1380.79</td>\n",
       "      <td>1376.24</td>\n",
       "      <td>1386.28</td>\n",
       "      <td>1375.89</td>\n",
       "      <td>169.50M</td>\n",
       "      <td>0.0033</td>\n",
       "    </tr>\n",
       "  </tbody>\n",
       "</table>\n",
       "</div>"
      ],
      "text/plain": [
       "           Date    Price     Open     High      Low   Volume  Change%\n",
       "0  Jun 19, 2017  1373.10  1372.44  1373.10  1372.26    6.20M   0.0006\n",
       "1  Jun 16, 2017  1372.27  1371.70  1374.33  1371.10   58.80M   0.0004\n",
       "2  Jun 15, 2017  1371.70  1378.95  1384.14  1369.99  159.24M  -0.0053\n",
       "3  Jun 14, 2017  1378.95  1380.79  1388.13  1378.37   87.17M  -0.0013\n",
       "4  Jun 13, 2017  1380.79  1376.24  1386.28  1375.89  169.50M   0.0033"
      ]
     },
     "execution_count": 5,
     "metadata": {},
     "output_type": "execute_result"
    }
   ],
   "source": [
    "#Define testfile\n",
    "test_file = 'Dataset/INDEX/ICEX Main (OMXIPI).xlsx'\n",
    "\n",
    "# Create dataframe\n",
    "\n",
    "df = pd.read_excel(test_file)\n",
    "df_test = df.copy()\n",
    "\n",
    "df.head()"
   ]
  },
  {
   "cell_type": "markdown",
   "metadata": {},
   "source": [
    "# Pre processing"
   ]
  },
  {
   "cell_type": "code",
   "execution_count": 3,
   "metadata": {
    "collapsed": false
   },
   "outputs": [
    {
     "data": {
      "text/plain": [
       "\"\\n# Below code is not in use at the moment\\n# Convert '6.20M' to int millions\\ndef to_millions(data):\\n    if data[-1]== 'M':\\n        data=float(data[:-1])\\n        return int(data * 1000000)\\n    else:\\n        return int(data * 1000000)\\n    \\n# Remove rows with missing values for Volume \\n# Might not need, volume might not be a good indicator as it reduces the number of datapoints from 1800 > 600 ish\\ndf =df[df_test.Volume != '-']\\n# Convert volume from '6.20M' to '6,200,000'\\ndf.Volume = df.Volume.apply(lambda x: to_millions(x))\\n\""
      ]
     },
     "execution_count": 3,
     "metadata": {},
     "output_type": "execute_result"
    }
   ],
   "source": [
    "\"\"\"\n",
    "# Below code is not in use at the moment\n",
    "# Convert '6.20M' to int millions\n",
    "def to_millions(data):\n",
    "    if data[-1]== 'M':\n",
    "        data=float(data[:-1])\n",
    "        return int(data * 1000000)\n",
    "    else:\n",
    "        return int(data * 1000000)\n",
    "    \n",
    "# Remove rows with missing values for Volume \n",
    "# Might not need, volume might not be a good indicator as it reduces the number of datapoints from 1800 > 600 ish\n",
    "df =df[df_test.Volume != '-']\n",
    "# Convert volume from '6.20M' to '6,200,000'\n",
    "df.Volume = df.Volume.apply(lambda x: to_millions(x))\n",
    "\"\"\""
   ]
  },
  {
   "cell_type": "code",
   "execution_count": 4,
   "metadata": {
    "collapsed": false
   },
   "outputs": [
    {
     "name": "stderr",
     "output_type": "stream",
     "text": [
      "C:\\Users\\petur\\Anaconda3\\lib\\site-packages\\ipykernel\\__main__.py:3: FutureWarning: sort(columns=....) is deprecated, use sort_values(by=.....)\n",
      "  app.launch_new_instance()\n",
      "C:\\Users\\petur\\Anaconda3\\lib\\site-packages\\ipykernel\\__main__.py:23: FutureWarning: pd.ewm_mean is deprecated for Series and will be removed in a future version, replace with \n",
      "\tSeries.ewm(min_periods=0,ignore_na=False,adjust=True,com=0.5).mean()\n"
     ]
    },
    {
     "data": {
      "text/html": [
       "<div>\n",
       "<table border=\"1\" class=\"dataframe\">\n",
       "  <thead>\n",
       "    <tr style=\"text-align: right;\">\n",
       "      <th></th>\n",
       "      <th>Date</th>\n",
       "      <th>Price</th>\n",
       "      <th>Open</th>\n",
       "      <th>High</th>\n",
       "      <th>Low</th>\n",
       "      <th>Volume</th>\n",
       "      <th>Change%</th>\n",
       "      <th>Return</th>\n",
       "      <th>Return_shift</th>\n",
       "      <th>Price_shift</th>\n",
       "      <th>...</th>\n",
       "      <th>Return5</th>\n",
       "      <th>Return10</th>\n",
       "      <th>Return20</th>\n",
       "      <th>Return50</th>\n",
       "      <th>3DaySMA</th>\n",
       "      <th>5DaySMA</th>\n",
       "      <th>10DaySMA</th>\n",
       "      <th>20DaySMA</th>\n",
       "      <th>50DaySMA</th>\n",
       "      <th>EWMA</th>\n",
       "    </tr>\n",
       "  </thead>\n",
       "  <tbody>\n",
       "    <tr>\n",
       "      <th>1806</th>\n",
       "      <td>2010-03-16</td>\n",
       "      <td>549.73</td>\n",
       "      <td>552.10</td>\n",
       "      <td>552.10</td>\n",
       "      <td>547.85</td>\n",
       "      <td>-</td>\n",
       "      <td>-0.0045</td>\n",
       "      <td>-0.004509</td>\n",
       "      <td>0.010504</td>\n",
       "      <td>552.22</td>\n",
       "      <td>...</td>\n",
       "      <td>0.018048</td>\n",
       "      <td>0.030031</td>\n",
       "      <td>0.091797</td>\n",
       "      <td>0.117764</td>\n",
       "      <td>549.323333</td>\n",
       "      <td>546.134</td>\n",
       "      <td>539.411</td>\n",
       "      <td>527.3435</td>\n",
       "      <td>512.6452</td>\n",
       "      <td>550.369914</td>\n",
       "    </tr>\n",
       "    <tr>\n",
       "      <th>1805</th>\n",
       "      <td>2010-03-17</td>\n",
       "      <td>556.05</td>\n",
       "      <td>549.74</td>\n",
       "      <td>556.62</td>\n",
       "      <td>549.74</td>\n",
       "      <td>-</td>\n",
       "      <td>0.0115</td>\n",
       "      <td>0.011497</td>\n",
       "      <td>-0.004509</td>\n",
       "      <td>549.73</td>\n",
       "      <td>...</td>\n",
       "      <td>0.022316</td>\n",
       "      <td>0.032783</td>\n",
       "      <td>0.087519</td>\n",
       "      <td>0.111756</td>\n",
       "      <td>549.476667</td>\n",
       "      <td>548.534</td>\n",
       "      <td>541.156</td>\n",
       "      <td>529.5555</td>\n",
       "      <td>513.7504</td>\n",
       "      <td>549.943305</td>\n",
       "    </tr>\n",
       "    <tr>\n",
       "      <th>1804</th>\n",
       "      <td>2010-03-18</td>\n",
       "      <td>564.50</td>\n",
       "      <td>555.62</td>\n",
       "      <td>567.77</td>\n",
       "      <td>555.62</td>\n",
       "      <td>-</td>\n",
       "      <td>0.0152</td>\n",
       "      <td>0.015196</td>\n",
       "      <td>0.011497</td>\n",
       "      <td>556.05</td>\n",
       "      <td>...</td>\n",
       "      <td>0.020331</td>\n",
       "      <td>0.048577</td>\n",
       "      <td>0.093424</td>\n",
       "      <td>0.117015</td>\n",
       "      <td>552.666667</td>\n",
       "      <td>550.750</td>\n",
       "      <td>543.732</td>\n",
       "      <td>531.9310</td>\n",
       "      <td>514.9154</td>\n",
       "      <td>554.014435</td>\n",
       "    </tr>\n",
       "    <tr>\n",
       "      <th>1803</th>\n",
       "      <td>2010-03-19</td>\n",
       "      <td>565.85</td>\n",
       "      <td>564.52</td>\n",
       "      <td>572.02</td>\n",
       "      <td>564.52</td>\n",
       "      <td>-</td>\n",
       "      <td>0.0024</td>\n",
       "      <td>0.002391</td>\n",
       "      <td>0.015196</td>\n",
       "      <td>564.50</td>\n",
       "      <td>...</td>\n",
       "      <td>0.027728</td>\n",
       "      <td>0.067935</td>\n",
       "      <td>0.110128</td>\n",
       "      <td>0.133443</td>\n",
       "      <td>556.760000</td>\n",
       "      <td>553.796</td>\n",
       "      <td>547.323</td>\n",
       "      <td>534.7310</td>\n",
       "      <td>516.2446</td>\n",
       "      <td>561.004812</td>\n",
       "    </tr>\n",
       "    <tr>\n",
       "      <th>1802</th>\n",
       "      <td>2010-03-22</td>\n",
       "      <td>569.67</td>\n",
       "      <td>566.22</td>\n",
       "      <td>569.67</td>\n",
       "      <td>566.14</td>\n",
       "      <td>-</td>\n",
       "      <td>0.0068</td>\n",
       "      <td>0.006751</td>\n",
       "      <td>0.002391</td>\n",
       "      <td>565.85</td>\n",
       "      <td>...</td>\n",
       "      <td>0.035445</td>\n",
       "      <td>0.067944</td>\n",
       "      <td>0.120029</td>\n",
       "      <td>0.125017</td>\n",
       "      <td>562.133333</td>\n",
       "      <td>557.670</td>\n",
       "      <td>550.923</td>\n",
       "      <td>537.7630</td>\n",
       "      <td>517.5022</td>\n",
       "      <td>564.234937</td>\n",
       "    </tr>\n",
       "  </tbody>\n",
       "</table>\n",
       "<p>5 rows × 21 columns</p>\n",
       "</div>"
      ],
      "text/plain": [
       "            Date   Price    Open    High     Low Volume  Change%    Return  \\\n",
       "1806  2010-03-16  549.73  552.10  552.10  547.85      -  -0.0045 -0.004509   \n",
       "1805  2010-03-17  556.05  549.74  556.62  549.74      -   0.0115  0.011497   \n",
       "1804  2010-03-18  564.50  555.62  567.77  555.62      -   0.0152  0.015196   \n",
       "1803  2010-03-19  565.85  564.52  572.02  564.52      -   0.0024  0.002391   \n",
       "1802  2010-03-22  569.67  566.22  569.67  566.14      -   0.0068  0.006751   \n",
       "\n",
       "      Return_shift  Price_shift     ...       Return5  Return10  Return20  \\\n",
       "1806      0.010504       552.22     ...      0.018048  0.030031  0.091797   \n",
       "1805     -0.004509       549.73     ...      0.022316  0.032783  0.087519   \n",
       "1804      0.011497       556.05     ...      0.020331  0.048577  0.093424   \n",
       "1803      0.015196       564.50     ...      0.027728  0.067935  0.110128   \n",
       "1802      0.002391       565.85     ...      0.035445  0.067944  0.120029   \n",
       "\n",
       "      Return50     3DaySMA  5DaySMA  10DaySMA  20DaySMA  50DaySMA        EWMA  \n",
       "1806  0.117764  549.323333  546.134   539.411  527.3435  512.6452  550.369914  \n",
       "1805  0.111756  549.476667  548.534   541.156  529.5555  513.7504  549.943305  \n",
       "1804  0.117015  552.666667  550.750   543.732  531.9310  514.9154  554.014435  \n",
       "1803  0.133443  556.760000  553.796   547.323  534.7310  516.2446  561.004812  \n",
       "1802  0.125017  562.133333  557.670   550.923  537.7630  517.5022  564.234937  \n",
       "\n",
       "[5 rows x 21 columns]"
      ]
     },
     "execution_count": 4,
     "metadata": {},
     "output_type": "execute_result"
    }
   ],
   "source": [
    "# Convert timestamp to datetime\n",
    "df['Date'] = pd.to_datetime(df['Date']).apply(lambda x: x.date())\n",
    "df = df.sort('Date', ascending=True)\n",
    "\n",
    "# Create returns\n",
    "df['Return'] = df['Price'].pct_change(periods=1)\n",
    "df['Return_shift'] = df.Return.shift(1)\n",
    "df['Price_shift'] = df.Price.shift(1)\n",
    "df['Return3'] = df['Price_shift'].pct_change(periods=3)\n",
    "df['Return5'] = df['Price_shift'].pct_change(periods=5)\n",
    "df['Return10'] = df['Price_shift'].pct_change(periods=10)\n",
    "df['Return20'] = df['Price_shift'].pct_change(periods=20)\n",
    "df['Return50'] = df['Price_shift'].pct_change(periods=50)\n",
    "\n",
    "# Create moving price averages\n",
    "df['3DaySMA'] = df['Price_shift'].rolling(center=False,window =3).mean()\n",
    "df['5DaySMA'] = df['Price_shift'].rolling(center=False,window =5).mean()\n",
    "df['10DaySMA'] = df['Price_shift'].rolling(center=False,window=10).mean()\n",
    "df['20DaySMA'] = df['Price_shift'].rolling(center=False,window=20).mean()\n",
    "df['50DaySMA'] = df['Price_shift'].rolling(center=False,window=50).mean()\n",
    "\n",
    "# Exponential Weighted Moving Average\n",
    "df['EWMA'] = pd.ewma(df.Price_shift, com=0.5)\n",
    "\n",
    "# Drop NAN\n",
    "# TODO: Find better approach\n",
    "df = df.dropna()\n",
    "\n",
    "# Show\n",
    "df.head()"
   ]
  },
  {
   "cell_type": "code",
   "execution_count": 6,
   "metadata": {
    "collapsed": false
   },
   "outputs": [],
   "source": [
    "# Check for na values\n",
    "#df.isnull().sum()"
   ]
  },
  {
   "cell_type": "markdown",
   "metadata": {},
   "source": [
    "# Select features to use in ML"
   ]
  },
  {
   "cell_type": "code",
   "execution_count": 7,
   "metadata": {
    "collapsed": false
   },
   "outputs": [],
   "source": [
    "from sklearn import preprocessing \n",
    "\n",
    "df_new = df.copy()\n",
    "\n",
    "# Create labels [0: \"Down\", 1: \"Up\"]\n",
    "le = preprocessing.LabelEncoder()\n",
    "df_new['UpDown'] = np.where(df_new['Return']>=0, 'Up', 'Down')\n",
    "df_new.UpDown = le.fit(df_new.UpDown).transform(df_new.UpDown)\n",
    "\n",
    "#print(df_new.columns)"
   ]
  },
  {
   "cell_type": "code",
   "execution_count": 8,
   "metadata": {
    "collapsed": true
   },
   "outputs": [],
   "source": [
    "# Define training features and label\n",
    "features = df_new.columns[10:-1]\n",
    "X = df_new[features]    \n",
    "y = df_new.UpDown    \n",
    "\n",
    "# Df is 1786 items\n",
    "n_split = 1500\n",
    "\n",
    "# Define training and testing\n",
    "X_train, X_test = X[:n_split], X[n_split:]\n",
    "y_train, y_test = y[:n_split], y[n_split:]"
   ]
  },
  {
   "cell_type": "code",
   "execution_count": 9,
   "metadata": {
    "collapsed": false
   },
   "outputs": [
    {
     "name": "stdout",
     "output_type": "stream",
     "text": [
      "1500 training datapoints\n",
      "307  testing datapoints\n",
      "11\n"
     ]
    }
   ],
   "source": [
    "print(len(X_train), \"training datapoints\")\n",
    "print(len(X_test), \" testing datapoints\")\n",
    "print(len(X.columns))"
   ]
  },
  {
   "cell_type": "markdown",
   "metadata": {},
   "source": [
    "# Random forest model"
   ]
  },
  {
   "cell_type": "code",
   "execution_count": 25,
   "metadata": {
    "collapsed": true
   },
   "outputs": [],
   "source": [
    "def print_evaluation(true_label, prediction):\n",
    "    accuracy = accuracy_score(y_test, prediction)\n",
    "    other = precision_recall_fscore_support(y_test, prediction, average='binary')\n",
    "\n",
    "    print(\"Accuracy:  \", accuracy)\n",
    "    print(\"Precision: \", other[0])\n",
    "    print(\"Recall:    \", other[1])\n",
    "    print(\"F1-score:  \", other[2])"
   ]
  },
  {
   "cell_type": "code",
   "execution_count": 26,
   "metadata": {
    "collapsed": false
   },
   "outputs": [],
   "source": [
    "from sklearn.ensemble import ExtraTreesClassifier\n",
    "from sklearn.feature_selection import SelectFromModel\n",
    "from sklearn.model_selection import cross_val_score\n",
    "from sklearn.metrics import precision_recall_fscore_support\n",
    "from sklearn.metrics import accuracy_score\n",
    "\n",
    "# Ensemble classifier\n",
    "clf = ExtraTreesClassifier(n_estimators=100, random_state = 0)\n",
    "clf = clf.fit(X_train, y_train)"
   ]
  },
  {
   "cell_type": "code",
   "execution_count": null,
   "metadata": {
    "collapsed": true
   },
   "outputs": [],
   "source": []
  },
  {
   "cell_type": "code",
   "execution_count": 27,
   "metadata": {
    "collapsed": false
   },
   "outputs": [
    {
     "name": "stdout",
     "output_type": "stream",
     "text": [
      "Accuracy:   0.491856677524\n",
      "Precision:  0.512820512821\n",
      "Recall:     0.621118012422\n",
      "F1-score:   0.561797752809\n"
     ]
    }
   ],
   "source": [
    "# Prediction\n",
    "prediction = clf.predict(X_test)\n",
    "print_evaluation(y_test, prediction)"
   ]
  },
  {
   "cell_type": "code",
   "execution_count": 29,
   "metadata": {
    "collapsed": false
   },
   "outputs": [
    {
     "name": "stdout",
     "output_type": "stream",
     "text": [
      "[ 0.51098901  0.48351648  0.51098901  0.45856354  0.51111111  0.46111111\n",
      "  0.34444444  0.41111111  0.49444444  0.52222222]\n",
      "0.470850248585\n"
     ]
    }
   ],
   "source": [
    "clf_cv = ExtraTreesClassifier(n_estimators=100, random_state = 0)\n",
    "clf_cv = clf_cv.fit(X, y)\n",
    "scores = cross_val_score(clf_cv, X, y, cv=10)\n",
    "print(scores)\n",
    "print(scores.mean())"
   ]
  },
  {
   "cell_type": "markdown",
   "metadata": {},
   "source": [
    "# Check for feature importance"
   ]
  },
  {
   "cell_type": "code",
   "execution_count": 157,
   "metadata": {
    "collapsed": false
   },
   "outputs": [
    {
     "name": "stderr",
     "output_type": "stream",
     "text": [
      "C:\\Users\\petur\\Anaconda3\\lib\\site-packages\\ipykernel\\__main__.py:9: FutureWarning: sort(columns=....) is deprecated, use sort_values(by=.....)\n"
     ]
    },
    {
     "data": {
      "image/png": "[encoded data removed]",
      "text/plain": [
       "<matplotlib.figure.Figure at 0x220e42473c8>"
      ]
     },
     "metadata": {},
     "output_type": "display_data"
    }
   ],
   "source": [
    "# Ensemble classifier\n",
    "clf_imp = ExtraTreesClassifier(n_estimators=100, random_state = 0)\n",
    "clf_imp = clf_imp.fit(X, y)\n",
    "\n",
    "# Define features and importance\n",
    "features = pd.DataFrame()\n",
    "features['feature'] = X.columns\n",
    "features['importance'] = clf_imp.feature_importances_\n",
    "features.sort(['importance'],ascending=False)\n",
    "\n",
    "# Plot feature importance\n",
    "sns.barplot(y = 'feature', x = 'importance', data=features.sort_values(by='importance', ascending=False))\n",
    "plt.show()"
   ]
  },
  {
   "cell_type": "code",
   "execution_count": 141,
   "metadata": {
    "collapsed": true
   },
   "outputs": [],
   "source": [
    "# Code from Siraj\n",
    "# Not working\n",
    "def predict_prices(dates, prices, x):\n",
    "\tdates = np.reshape(dates,len(dates),1)\n",
    "\n",
    "\tsvr_lin  = SVR(kernel = 'linear', C=1e3)\n",
    "\tsvr_poly = SVR(kernel = 'poly',   C=1e3, degree = 2)\n",
    "\tsvr_rbf  = SVR(kernel = 'rbf',    C=1e3, gamma  = 0.1)\n",
    "\tsvr_lin.fit(dates,prices)\n",
    "\tsvr_poly.fit(dates,prices)\n",
    "\tsvr_rbf.fit(dates,prices)\n",
    "\n",
    "\tplt.scatter(dates, prices, color='black', label='Data')\n",
    "\tplt.plot(dates, svr_rbf.predict(dates), color='red', label='RBF Model')\n",
    "\tplt.plot(dates, svr_lin.predict(dates, color='green', label='Linear Model'))\n",
    "\tplt.plot(dates, svr_poly.predict(dates, color='blue', label='Polynomial Model'))\n",
    "\tplt.xlabel('Date')\n",
    "\tplt.ylabel('Price')\n",
    "\tplt.title('SVM')\n",
    "\tplt.legend()\n",
    "\tplt.show\t\n",
    "\n",
    "\treturn svr_rbf.predict(x)[0], svr_lin.predict(x)[0], svr_poly.predict(x)[0]"
   ]
  },
  {
   "cell_type": "markdown",
   "metadata": {},
   "source": [
    "# Support Vector Machine"
   ]
  },
  {
   "cell_type": "code",
   "execution_count": 30,
   "metadata": {
    "collapsed": false
   },
   "outputs": [],
   "source": [
    "from sklearn.svm import SVC\n",
    "\n",
    "def performSVMClass(X_train, y_train, X_test, y_test):\n",
    "    \"\"\"\n",
    "    SVM binary Classification\n",
    "    \"\"\"\n",
    "    clf = SVC()\n",
    "    clf.fit(X_train, y_train)\n",
    "    \n",
    "    accuracy = clf.score(X_test, y_test)\n",
    "    \n",
    "    return accuracy"
   ]
  },
  {
   "cell_type": "code",
   "execution_count": 31,
   "metadata": {
    "collapsed": false
   },
   "outputs": [
    {
     "name": "stdout",
     "output_type": "stream",
     "text": [
      "0.521172638436\n"
     ]
    }
   ],
   "source": [
    "accuracy = performSVMClass(X_train, y_train, X_test, y_test)\n",
    "print(accuracy)"
   ]
  },
  {
   "cell_type": "code",
   "execution_count": null,
   "metadata": {
    "collapsed": false
   },
   "outputs": [],
   "source": [
    "time_Start =time.time()\n",
    "\n",
    "clf_SVC = SVC(kernel='poly')\n",
    "#clf_SVC = clf_SVC.fit(X, y)\n",
    "scores = cross_val_score(clf_SVC, X, y, cv=5)\n",
    "print(scores)\n",
    "print(scores.mean())\n",
    "\n",
    "time_End = time.time()\n",
    "\n",
    "print(\"Seconds to run:\", time_End-time_Start )\n"
   ]
  },
  {
   "cell_type": "markdown",
   "metadata": {
    "collapsed": true
   },
   "source": [
    "# Polynomial SVM"
   ]
  },
  {
   "cell_type": "code",
   "execution_count": 6,
   "metadata": {
    "collapsed": false
   },
   "outputs": [
    {
     "data": {
      "text/plain": [
       "' This is stuck in training. Something wrong, have to see what\\n# Start timer\\ntime_Start =time.time()\\n\\n# Classifier\\nclf = SVC(kernel=\\'poly\\')\\nclf.fit(X_train, y_train)\\n\\n# Prediction\\nprediction = clf.predict(X_test)\\nprint_evaluation(y_test, prediction)\\n\\n# End timer and results\\ntime_End = time.time()\\nprint(\"Seconds to run:\", time_End-time_Start )\\n'"
      ]
     },
     "execution_count": 6,
     "metadata": {},
     "output_type": "execute_result"
    }
   ],
   "source": [
    "\"\"\" This is stuck in training. Something wrong, have to see what\n",
    "# Start timer\n",
    "time_Start =time.time()\n",
    "\n",
    "# Classifier\n",
    "clf = SVC(kernel='poly')\n",
    "clf.fit(X_train, y_train)\n",
    "\n",
    "# Prediction\n",
    "prediction = clf.predict(X_test)\n",
    "print_evaluation(y_test, prediction)\n",
    "\n",
    "# End timer and results\n",
    "time_End = time.time()\n",
    "print(\"Seconds to run:\", time_End-time_Start )\n",
    "\"\"\""
   ]
  },
  {
   "cell_type": "markdown",
   "metadata": {},
   "source": [
    "# RBF SVM"
   ]
  },
  {
   "cell_type": "code",
   "execution_count": null,
   "metadata": {
    "collapsed": true
   },
   "outputs": [],
   "source": [
    "# Start timer\n",
    "time_Start =time.time()\n",
    "\n",
    "# Classifier\n",
    "clf = SVC(kernel='rbf')\n",
    "clf.fit(X_train, y_train)\n",
    "\n",
    "# Prediction\n",
    "prediction = clf.predict(X_test)\n",
    "print_evaluation(y_test, prediction)\n",
    "\n",
    "# End timer and results\n",
    "time_End = time.time()\n",
    "print(\"Seconds to run:\", time_End-time_Start )"
   ]
  },
  {
   "cell_type": "markdown",
   "metadata": {},
   "source": [
    "# Sigmoid SVM"
   ]
  },
  {
   "cell_type": "code",
   "execution_count": null,
   "metadata": {
    "collapsed": true
   },
   "outputs": [],
   "source": [
    "# Start timer\n",
    "time_Start =time.time()\n",
    "\n",
    "# Classifier\n",
    "clf = SVC(kernel='sigmoid')\n",
    "clf.fit(X_train, y_train)\n",
    "\n",
    "# Prediction\n",
    "prediction = clf.predict(X_test)\n",
    "print_evaluation(y_test, prediction)\n",
    "\n",
    "# End timer and results\n",
    "time_End = time.time()\n",
    "print(\"Seconds to run:\", time_End-time_Start )"
   ]
  },
  {
   "cell_type": "code",
   "execution_count": null,
   "metadata": {
    "collapsed": true
   },
   "outputs": [],
   "source": []
  },
  {
   "cell_type": "code",
   "execution_count": null,
   "metadata": {
    "collapsed": true
   },
   "outputs": [],
   "source": [
    "\n"
   ]
  },
  {
   "cell_type": "code",
   "execution_count": null,
   "metadata": {
    "collapsed": true
   },
   "outputs": [],
   "source": []
  },
  {
   "cell_type": "code",
   "execution_count": null,
   "metadata": {
    "collapsed": true
   },
   "outputs": [],
   "source": []
  }
 ],
 "metadata": {
  "anaconda-cloud": {},
  "kernelspec": {
   "display_name": "Python [default]",
   "language": "python",
   "name": "python3"
  },
  "language_info": {
   "codemirror_mode": {
    "name": "ipython",
    "version": 3
   },
   "file_extension": ".py",
   "mimetype": "text/x-python",
   "name": "python",
   "nbconvert_exporter": "python",
   "pygments_lexer": "ipython3",
   "version": "3.5.2"
  }
 },
 "nbformat": 4,
 "nbformat_minor": 2
}
