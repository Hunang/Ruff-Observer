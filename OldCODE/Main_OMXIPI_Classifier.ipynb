{
 "cells": [
  {
   "cell_type": "code",
   "execution_count": 2,
   "metadata": {
    "collapsed": true
   },
   "outputs": [],
   "source": [
    "import numpy as np\n",
    "import pandas as pd\n",
    "import datetime\n",
    "import time\n",
    "from scipy.stats import itemfreq\n",
    "\n",
    "import seaborn as sns\n",
    "import matplotlib.pyplot as plt\n",
    "import matplotlib as mpl\n",
    "\n",
    "from sklearn import preprocessing \n",
    "from sklearn.ensemble import ExtraTreesClassifier\n",
    "from sklearn.feature_selection import SelectFromModel\n",
    "from sklearn.model_selection import cross_val_score\n",
    "from sklearn.metrics import precision_recall_fscore_support\n",
    "from sklearn.metrics import accuracy_score\n",
    "from sklearn.model_selection import train_test_split\n",
    "from sklearn.svm import SVC\n",
    "from sklearn.svm import LinearSVC"
   ]
  },
  {
   "cell_type": "markdown",
   "metadata": {},
   "source": [
    "# Load data"
   ]
  },
  {
   "cell_type": "code",
   "execution_count": 3,
   "metadata": {
    "collapsed": true
   },
   "outputs": [],
   "source": [
    "#Define testfile\n",
    "test_file = 'Dataset/INDEX/ICEX Main (OMXIPI).xlsx'\n",
    "\n",
    "# Create dataframe\n",
    "df = pd.read_excel(test_file)"
   ]
  },
  {
   "cell_type": "markdown",
   "metadata": {},
   "source": [
    "# PreProcessing"
   ]
  },
  {
   "cell_type": "code",
   "execution_count": 4,
   "metadata": {
    "collapsed": false
   },
   "outputs": [
    {
     "name": "stderr",
     "output_type": "stream",
     "text": [
      "C:\\Users\\petur\\Anaconda3\\lib\\site-packages\\ipykernel\\__main__.py:3: FutureWarning: sort(columns=....) is deprecated, use sort_values(by=.....)\n",
      "  app.launch_new_instance()\n"
     ]
    }
   ],
   "source": [
    "# Convert timestamp to datetime\n",
    "df['Date'] = pd.to_datetime(df['Date']).apply(lambda x: x.date())\n",
    "df = df.sort('Date', ascending=True)\n",
    "\n",
    "# Create returns\n",
    "df['Return'] = df['Price'].pct_change(periods=1)\n",
    "df['Return_shift'] = df.Return.shift(1)\n",
    "df['Price_shift'] = df.Price.shift(1)\n",
    "df['Return3'] = df['Price_shift'].pct_change(periods=3)\n",
    "df['Return5'] = df['Price_shift'].pct_change(periods=5)\n",
    "df['Return10'] = df['Price_shift'].pct_change(periods=10)\n",
    "df['Return20'] = df['Price_shift'].pct_change(periods=20)\n",
    "df['Return50'] = df['Price_shift'].pct_change(periods=50)\n",
    "\n",
    "# Create moving price averages\n",
    "df['3DaySMA'] = df['Price_shift'].rolling(center=False,window =3).mean()\n",
    "df['5DaySMA'] = df['Price_shift'].rolling(center=False,window =5).mean()\n",
    "df['10DaySMA'] = df['Price_shift'].rolling(center=False,window=10).mean()\n",
    "df['20DaySMA'] = df['Price_shift'].rolling(center=False,window=20).mean()\n",
    "df['50DaySMA'] = df['Price_shift'].rolling(center=False,window=50).mean()\n",
    "\n",
    "# Exponential Weighted Moving Average\n",
    "df['EWMA'] = df.Price_shift.ewm(com=0.5,min_periods=0,adjust=True,ignore_na=False).mean()\n",
    "\n",
    "# Drop NAN\n",
    "# TODO: Find better approach\n",
    "df = df.dropna()"
   ]
  },
  {
   "cell_type": "markdown",
   "metadata": {},
   "source": [
    "# ML - PreProcessing"
   ]
  },
  {
   "cell_type": "code",
   "execution_count": 5,
   "metadata": {
    "collapsed": false
   },
   "outputs": [
    {
     "name": "stdout",
     "output_type": "stream",
     "text": [
      "1807 Total datapoints\n",
      "1355 Training datapoints\n",
      "452  Testing datapoints\n",
      "11 Features\n",
      "[[  0 854]\n",
      " [  1 953]]\n"
     ]
    }
   ],
   "source": [
    "df_new = df.copy()\n",
    "\n",
    "# Create labels [0: \"Down\", 1: \"Up\"]\n",
    "le = preprocessing.LabelEncoder()\n",
    "df_new['UpDown'] = np.where(df_new['Return']>=0, 'Up', 'Down')\n",
    "df_new.UpDown = le.fit(df_new.UpDown).transform(df_new.UpDown)\n",
    "\n",
    "\n",
    "# Define training features and label\n",
    "features = df_new.columns[10:-1]\n",
    "X = preprocessing.scale(df_new[features])    \n",
    "y = df_new.UpDown   \n",
    "\n",
    "# Train/Test split\n",
    "X_train, X_test, y_train, y_test = train_test_split(X, y, test_size=0.25, random_state=0)\n",
    "\n",
    "print(len(X), \"Total datapoints\")\n",
    "print(len(X_train), \"Training datapoints\")\n",
    "print(len(X_test), \" Testing datapoints\")\n",
    "print(len(df_new[features].columns), \"Features\")\n",
    "print(itemfreq(df_new.UpDown))\n"
   ]
  },
  {
   "cell_type": "code",
   "execution_count": 6,
   "metadata": {
    "collapsed": true
   },
   "outputs": [],
   "source": [
    "# Print out evaluation metrics\n",
    "def print_evaluation(true_label, prediction):\n",
    "    accuracy = accuracy_score(y_test, prediction)\n",
    "    metrics = precision_recall_fscore_support(y_test, prediction, average='binary')\n",
    "\n",
    "    print(\"Accuracy:  \", accuracy)\n",
    "    print(\"Precision: \", metrics[0])\n",
    "    print(\"Recall:    \", metrics[1])\n",
    "    print(\"F1-score:  \", metrics[2])"
   ]
  },
  {
   "cell_type": "markdown",
   "metadata": {},
   "source": [
    "# Ensemble classifier"
   ]
  },
  {
   "cell_type": "code",
   "execution_count": 7,
   "metadata": {
    "collapsed": false
   },
   "outputs": [
    {
     "name": "stdout",
     "output_type": "stream",
     "text": [
      "Accuracy:   0.513274336283\n",
      "Precision:  0.533864541833\n",
      "Recall:     0.565400843882\n",
      "F1-score:   0.549180327869\n",
      "Seconds to run: 2.665999412536621\n"
     ]
    }
   ],
   "source": [
    "time_Start =time.time()\n",
    "\n",
    "# Classifier\n",
    "clf = ExtraTreesClassifier(n_estimators=1000)\n",
    "clf = clf.fit(X_train, y_train)\n",
    "\n",
    "# Prediction\n",
    "prediction = clf.predict(X_test)\n",
    "print_evaluation(y_test, prediction)\n",
    "\n",
    "time_End = time.time()\n",
    "print(\"Seconds to run:\", time_End-time_Start )"
   ]
  },
  {
   "cell_type": "markdown",
   "metadata": {},
   "source": [
    "# Linear SVM Classifier"
   ]
  },
  {
   "cell_type": "code",
   "execution_count": 8,
   "metadata": {
    "collapsed": false
   },
   "outputs": [
    {
     "name": "stdout",
     "output_type": "stream",
     "text": [
      "Accuracy:   0.53982300885\n",
      "Precision:  0.534117647059\n",
      "Recall:     0.957805907173\n",
      "F1-score:   0.68580060423\n",
      "Seconds to run: 0.16829919815063477\n"
     ]
    }
   ],
   "source": [
    "# Start timer\n",
    "time_Start =time.time()\n",
    "\n",
    "# Classifier\n",
    "clf = LinearSVC()\n",
    "clf.fit(X_train, y_train)\n",
    "\n",
    "# Prediction\n",
    "prediction = clf.predict(X_test)\n",
    "print_evaluation(y_test, prediction)\n",
    "\n",
    "# End timer and results\n",
    "time_End = time.time()\n",
    "print(\"Seconds to run:\", time_End-time_Start )"
   ]
  },
  {
   "cell_type": "code",
   "execution_count": 8,
   "metadata": {
    "collapsed": false
   },
   "outputs": [
    {
     "name": "stdout",
     "output_type": "stream",
     "text": [
      "[[  0  27]\n",
      " [  1 425]]\n",
      "[1 1 1 1 1 1 1 1 1 1 1 1 1 1 1 1 1 1 1 1 1 1 1 1 0 0 1 1 1 1 1 1 1 1 1 1 1\n",
      " 1 0 1 1 1 1 1 1 1 1 1 1 1 1 1 1 1 1 1 1 1 1 1 1 1 1 1 1 1 1 1 1 1 1 1 1 1\n",
      " 1 1 1 0 1 1 1 1 1 1 1 1 0 1 1 1 1 0 1 1 1 1 0 1 1 1 1 1 1 1 0 1 1 1 1 0 1\n",
      " 1 1 1 1 1 1 1 1 1 0 1 1 1 1 0 1 1 1 1 1 1 1 1 1 1 1 1 1 1 1 1 1 1 1 1 1 1\n",
      " 1 1 1 1 1 1 1 1 1 1 1 1 1 1 1 1 1 1 1 1 1 1 1 1 1 1 1 1 1 1 1 1 1 1 1 1 1\n",
      " 1 1 0 1 1 0 1 1 1 1 1 1 1 1 1 1 1 1 1 1 1 1 1 1 1 1 1 0 1 1 1 1 1 1 1 1 1\n",
      " 1 1 1 1 1 1 1 1 1 1 1 1 1 1 1 1 1 1 1 0 1 0 1 1 1 1 1 1 1 0 1 1 1 1 1 1 1\n",
      " 1 1 1 1 1 1 1 1 1 1 1 1 1 1 1 1 1 1 1 1 1 1 1 1 0 1 1 1 1 1 1 1 1 1 1 0 1\n",
      " 1 1 1 1 1 1 1 1 1 1 1 1 1 1 1 1 1 1 1 1 1 1 1 1 1 1 1 1 0 1 1 1 1 1 1 1 1\n",
      " 1 1 1 1 1 0 1 1 1 1 1 1 1 1 1 1 1 1 1 0 1 1 1 1 1 1 1 1 1 1 1 1 1 1 1 1 1\n",
      " 1 1 1 1 1 1 1 1 1 1 0 1 1 1 1 1 1 1 1 1 1 0 1 1 1 1 1 1 1 1 1 1 1 1 1 1 1\n",
      " 1 1 1 1 1 1 1 1 1 1 1 1 1 1 1 1 1 1 1 1 0 1 1 1 1 1 1 1 0 1 1 1 1 1 1 1 1\n",
      " 1 1 0 1 1 1 1 1]\n"
     ]
    }
   ],
   "source": [
    "print(itemfreq(prediction))\n",
    "print(prediction)"
   ]
  },
  {
   "cell_type": "code",
   "execution_count": 9,
   "metadata": {
    "collapsed": false
   },
   "outputs": [
    {
     "name": "stdout",
     "output_type": "stream",
     "text": [
      "Accuracy:   0.526548672566\n",
      "Precision:  0.529411764706\n",
      "Recall:     0.873417721519\n",
      "F1-score:   0.65923566879\n",
      "Seconds to run: 0.09875726699829102\n"
     ]
    }
   ],
   "source": [
    "# Start timer\n",
    "time_Start =time.time()\n",
    "\n",
    "# Classifier\n",
    "clf = SVC()\n",
    "clf.fit(X_train, y_train)\n",
    "\n",
    "# Prediction\n",
    "prediction = clf.predict(X_test)\n",
    "print_evaluation(y_test, prediction)\n",
    "\n",
    "# End timer and results\n",
    "time_End = time.time()\n",
    "print(\"Seconds to run:\", time_End-time_Start )"
   ]
  },
  {
   "cell_type": "code",
   "execution_count": 10,
   "metadata": {
    "collapsed": false
   },
   "outputs": [
    {
     "name": "stdout",
     "output_type": "stream",
     "text": [
      "[[  0  61]\n",
      " [  1 391]]\n",
      "[1 0 1 1 1 1 1 1 1 1 0 1 1 1 1 1 0 0 1 0 1 1 1 0 1 0 1 1 1 0 0 1 1 1 0 1 1\n",
      " 1 1 1 1 1 1 1 1 1 1 0 1 1 0 1 1 0 1 1 1 1 1 1 1 0 0 1 1 1 1 1 1 1 0 0 1 0\n",
      " 1 0 1 1 1 1 1 1 1 1 1 1 1 1 1 0 1 1 1 1 1 1 1 0 1 1 1 1 1 1 1 1 1 1 1 1 1\n",
      " 1 1 1 1 1 1 1 1 1 1 1 1 1 1 1 1 1 1 1 1 1 1 1 1 1 1 0 1 1 1 1 1 0 1 0 0 1\n",
      " 1 1 1 1 1 0 1 1 1 0 1 1 1 1 1 1 0 1 1 1 1 1 1 1 1 1 1 0 1 1 1 1 1 1 1 1 0\n",
      " 1 1 1 1 1 1 1 1 1 1 1 1 0 1 1 1 1 1 0 1 1 1 1 1 0 1 1 0 1 1 1 1 1 1 1 1 1\n",
      " 1 1 1 0 1 1 1 1 1 1 1 0 0 1 1 1 0 1 1 1 1 0 1 1 1 1 1 1 1 1 1 1 1 1 1 1 1\n",
      " 1 1 1 1 0 1 1 1 1 1 0 1 1 1 1 1 1 1 0 1 0 1 1 1 0 1 1 1 1 1 1 1 1 1 1 0 0\n",
      " 0 1 1 1 1 1 1 1 1 1 1 1 1 1 1 1 1 1 1 1 1 1 1 0 1 1 1 1 1 1 0 1 1 1 1 1 1\n",
      " 0 0 1 1 1 1 1 1 1 1 1 1 1 1 0 0 1 1 1 0 1 1 1 1 1 1 1 1 1 1 1 1 1 1 1 1 1\n",
      " 1 1 1 1 1 1 1 1 1 1 1 0 1 1 1 1 1 1 1 0 1 1 1 1 1 1 1 1 1 1 1 1 1 1 1 1 1\n",
      " 1 1 1 0 1 1 0 1 1 1 0 1 1 1 1 1 1 1 1 1 1 1 1 1 1 1 1 1 1 1 1 0 1 1 1 0 1\n",
      " 1 1 1 1 1 1 1 1]\n"
     ]
    }
   ],
   "source": [
    "print(itemfreq(prediction))\n",
    "print(prediction)"
   ]
  },
  {
   "cell_type": "markdown",
   "metadata": {
    "collapsed": false
   },
   "source": [
    "# Feature importance"
   ]
  },
  {
   "cell_type": "code",
   "execution_count": 11,
   "metadata": {
    "collapsed": false
   },
   "outputs": [
    {
     "name": "stderr",
     "output_type": "stream",
     "text": [
      "C:\\Users\\petur\\Anaconda3\\lib\\site-packages\\ipykernel\\__main__.py:7: FutureWarning: sort(columns=....) is deprecated, use sort_values(by=.....)\n"
     ]
    },
    {
     "data": {
      "image/png": "[encoded data removed]",
      "text/plain": [
       "<matplotlib.figure.Figure at 0x1b414d3ea90>"
      ]
     },
     "metadata": {},
     "output_type": "display_data"
    }
   ],
   "source": [
    "# Define features and importance\n",
    "df_feature = pd.DataFrame()\n",
    "df_feature['Features'] = df_new[features].columns\n",
    "weights = clf.coef_ * clf.coef_\n",
    "weights = abs(clf.coef_)\n",
    "df_feature['Importance'] = weights[0]\n",
    "df_feature.sort(['Importance'],ascending=False)\n",
    "top5 = df_feature.Features[0:5]\n",
    "\n",
    "# Plot feature importance\n",
    "sns.barplot(y = 'Features', x = 'Importance', data=df_feature.sort_values(by='Importance', ascending=False))\n",
    "plt.title(\"Linear SVM feature importance\", fontsize=18)\n",
    "plt.show()"
   ]
  },
  {
   "cell_type": "code",
   "execution_count": 15,
   "metadata": {
    "collapsed": false
   },
   "outputs": [
    {
     "name": "stdout",
     "output_type": "stream",
     "text": [
      "[[  9.59734189e-06   4.14610228e-06   8.86933763e-06   4.79619834e-05\n",
      "    2.52231931e-03   1.06891728e-01   1.94842527e-02   8.02912860e-03\n",
      "    4.14368260e-01   2.74313007e-02   1.82209710e-01]]\n",
      "0      Return3\n",
      "1      Return5\n",
      "2     Return10\n",
      "3     Return20\n",
      "4     Return50\n",
      "5      3DaySMA\n",
      "6      5DaySMA\n",
      "7     10DaySMA\n",
      "8     20DaySMA\n",
      "9     50DaySMA\n",
      "10        EWMA\n",
      "Name: Features, dtype: object\n"
     ]
    }
   ],
   "source": [
    "weights = clf.coef_ * clf.coef_\n",
    "print(weights)\n",
    "print(df_feature['Features'])\n"
   ]
  },
  {
   "cell_type": "code",
   "execution_count": 16,
   "metadata": {
    "collapsed": false
   },
   "outputs": [
    {
     "data": {
      "text/html": [
       "<div>\n",
       "<table border=\"1\" class=\"dataframe\">\n",
       "  <thead>\n",
       "    <tr style=\"text-align: right;\">\n",
       "      <th></th>\n",
       "      <th>Date</th>\n",
       "      <th>Price</th>\n",
       "      <th>Open</th>\n",
       "      <th>High</th>\n",
       "      <th>Low</th>\n",
       "      <th>Volume</th>\n",
       "      <th>Change%</th>\n",
       "      <th>Return</th>\n",
       "      <th>Return_shift</th>\n",
       "      <th>Price_shift</th>\n",
       "      <th>...</th>\n",
       "      <th>Return5</th>\n",
       "      <th>Return10</th>\n",
       "      <th>Return20</th>\n",
       "      <th>Return50</th>\n",
       "      <th>3DaySMA</th>\n",
       "      <th>5DaySMA</th>\n",
       "      <th>10DaySMA</th>\n",
       "      <th>20DaySMA</th>\n",
       "      <th>50DaySMA</th>\n",
       "      <th>EWMA</th>\n",
       "    </tr>\n",
       "  </thead>\n",
       "  <tbody>\n",
       "    <tr>\n",
       "      <th>1806</th>\n",
       "      <td>2010-03-16</td>\n",
       "      <td>549.73</td>\n",
       "      <td>552.10</td>\n",
       "      <td>552.10</td>\n",
       "      <td>547.85</td>\n",
       "      <td>-</td>\n",
       "      <td>-0.0045</td>\n",
       "      <td>-0.004509</td>\n",
       "      <td>0.010504</td>\n",
       "      <td>552.22</td>\n",
       "      <td>...</td>\n",
       "      <td>0.018048</td>\n",
       "      <td>0.030031</td>\n",
       "      <td>0.091797</td>\n",
       "      <td>0.117764</td>\n",
       "      <td>549.323333</td>\n",
       "      <td>546.134</td>\n",
       "      <td>539.411</td>\n",
       "      <td>527.3435</td>\n",
       "      <td>512.6452</td>\n",
       "      <td>550.369914</td>\n",
       "    </tr>\n",
       "    <tr>\n",
       "      <th>1805</th>\n",
       "      <td>2010-03-17</td>\n",
       "      <td>556.05</td>\n",
       "      <td>549.74</td>\n",
       "      <td>556.62</td>\n",
       "      <td>549.74</td>\n",
       "      <td>-</td>\n",
       "      <td>0.0115</td>\n",
       "      <td>0.011497</td>\n",
       "      <td>-0.004509</td>\n",
       "      <td>549.73</td>\n",
       "      <td>...</td>\n",
       "      <td>0.022316</td>\n",
       "      <td>0.032783</td>\n",
       "      <td>0.087519</td>\n",
       "      <td>0.111756</td>\n",
       "      <td>549.476667</td>\n",
       "      <td>548.534</td>\n",
       "      <td>541.156</td>\n",
       "      <td>529.5555</td>\n",
       "      <td>513.7504</td>\n",
       "      <td>549.943305</td>\n",
       "    </tr>\n",
       "    <tr>\n",
       "      <th>1804</th>\n",
       "      <td>2010-03-18</td>\n",
       "      <td>564.50</td>\n",
       "      <td>555.62</td>\n",
       "      <td>567.77</td>\n",
       "      <td>555.62</td>\n",
       "      <td>-</td>\n",
       "      <td>0.0152</td>\n",
       "      <td>0.015196</td>\n",
       "      <td>0.011497</td>\n",
       "      <td>556.05</td>\n",
       "      <td>...</td>\n",
       "      <td>0.020331</td>\n",
       "      <td>0.048577</td>\n",
       "      <td>0.093424</td>\n",
       "      <td>0.117015</td>\n",
       "      <td>552.666667</td>\n",
       "      <td>550.750</td>\n",
       "      <td>543.732</td>\n",
       "      <td>531.9310</td>\n",
       "      <td>514.9154</td>\n",
       "      <td>554.014435</td>\n",
       "    </tr>\n",
       "    <tr>\n",
       "      <th>1803</th>\n",
       "      <td>2010-03-19</td>\n",
       "      <td>565.85</td>\n",
       "      <td>564.52</td>\n",
       "      <td>572.02</td>\n",
       "      <td>564.52</td>\n",
       "      <td>-</td>\n",
       "      <td>0.0024</td>\n",
       "      <td>0.002391</td>\n",
       "      <td>0.015196</td>\n",
       "      <td>564.50</td>\n",
       "      <td>...</td>\n",
       "      <td>0.027728</td>\n",
       "      <td>0.067935</td>\n",
       "      <td>0.110128</td>\n",
       "      <td>0.133443</td>\n",
       "      <td>556.760000</td>\n",
       "      <td>553.796</td>\n",
       "      <td>547.323</td>\n",
       "      <td>534.7310</td>\n",
       "      <td>516.2446</td>\n",
       "      <td>561.004812</td>\n",
       "    </tr>\n",
       "    <tr>\n",
       "      <th>1802</th>\n",
       "      <td>2010-03-22</td>\n",
       "      <td>569.67</td>\n",
       "      <td>566.22</td>\n",
       "      <td>569.67</td>\n",
       "      <td>566.14</td>\n",
       "      <td>-</td>\n",
       "      <td>0.0068</td>\n",
       "      <td>0.006751</td>\n",
       "      <td>0.002391</td>\n",
       "      <td>565.85</td>\n",
       "      <td>...</td>\n",
       "      <td>0.035445</td>\n",
       "      <td>0.067944</td>\n",
       "      <td>0.120029</td>\n",
       "      <td>0.125017</td>\n",
       "      <td>562.133333</td>\n",
       "      <td>557.670</td>\n",
       "      <td>550.923</td>\n",
       "      <td>537.7630</td>\n",
       "      <td>517.5022</td>\n",
       "      <td>564.234937</td>\n",
       "    </tr>\n",
       "  </tbody>\n",
       "</table>\n",
       "<p>5 rows × 21 columns</p>\n",
       "</div>"
      ],
      "text/plain": [
       "            Date   Price    Open    High     Low Volume  Change%    Return  \\\n",
       "1806  2010-03-16  549.73  552.10  552.10  547.85      -  -0.0045 -0.004509   \n",
       "1805  2010-03-17  556.05  549.74  556.62  549.74      -   0.0115  0.011497   \n",
       "1804  2010-03-18  564.50  555.62  567.77  555.62      -   0.0152  0.015196   \n",
       "1803  2010-03-19  565.85  564.52  572.02  564.52      -   0.0024  0.002391   \n",
       "1802  2010-03-22  569.67  566.22  569.67  566.14      -   0.0068  0.006751   \n",
       "\n",
       "      Return_shift  Price_shift     ...       Return5  Return10  Return20  \\\n",
       "1806      0.010504       552.22     ...      0.018048  0.030031  0.091797   \n",
       "1805     -0.004509       549.73     ...      0.022316  0.032783  0.087519   \n",
       "1804      0.011497       556.05     ...      0.020331  0.048577  0.093424   \n",
       "1803      0.015196       564.50     ...      0.027728  0.067935  0.110128   \n",
       "1802      0.002391       565.85     ...      0.035445  0.067944  0.120029   \n",
       "\n",
       "      Return50     3DaySMA  5DaySMA  10DaySMA  20DaySMA  50DaySMA        EWMA  \n",
       "1806  0.117764  549.323333  546.134   539.411  527.3435  512.6452  550.369914  \n",
       "1805  0.111756  549.476667  548.534   541.156  529.5555  513.7504  549.943305  \n",
       "1804  0.117015  552.666667  550.750   543.732  531.9310  514.9154  554.014435  \n",
       "1803  0.133443  556.760000  553.796   547.323  534.7310  516.2446  561.004812  \n",
       "1802  0.125017  562.133333  557.670   550.923  537.7630  517.5022  564.234937  \n",
       "\n",
       "[5 rows x 21 columns]"
      ]
     },
     "execution_count": 16,
     "metadata": {},
     "output_type": "execute_result"
    }
   ],
   "source": [
    "df.head()"
   ]
  },
  {
   "cell_type": "code",
   "execution_count": 36,
   "metadata": {
    "collapsed": false
   },
   "outputs": [],
   "source": [
    "df.Price\n",
    "df.Date\n",
    "ts = pd.Series(df.Price.values, index = df.Date)"
   ]
  },
  {
   "cell_type": "code",
   "execution_count": 37,
   "metadata": {
    "collapsed": false
   },
   "outputs": [
    {
     "data": {
      "image/png": "[encoded data removed]",
      "text/plain": [
       "<matplotlib.figure.Figure at 0x170123ed940>"
      ]
     },
     "metadata": {},
     "output_type": "display_data"
    }
   ],
   "source": [
    "ts.plot()\n",
    "plt.show()"
   ]
  },
  {
   "cell_type": "code",
   "execution_count": null,
   "metadata": {
    "collapsed": true
   },
   "outputs": [],
   "source": []
  }
 ],
 "metadata": {
  "anaconda-cloud": {},
  "kernelspec": {
   "display_name": "Python [default]",
   "language": "python",
   "name": "python3"
  },
  "language_info": {
   "codemirror_mode": {
    "name": "ipython",
    "version": 3
   },
   "file_extension": ".py",
   "mimetype": "text/x-python",
   "name": "python",
   "nbconvert_exporter": "python",
   "pygments_lexer": "ipython3",
   "version": "3.5.2"
  }
 },
 "nbformat": 4,
 "nbformat_minor": 2
}
