{
 "cells": [
  {
   "cell_type": "code",
   "execution_count": 106,
   "metadata": {
    "collapsed": true
   },
   "outputs": [],
   "source": [
    "import numpy as np\n",
    "import pandas as pd\n",
    "import datetime\n",
    "import time\n",
    "from scipy.stats import itemfreq\n",
    "\n",
    "import seaborn as sns\n",
    "import matplotlib.pyplot as plt\n",
    "import matplotlib as mpl\n",
    "\n",
    "from sklearn import preprocessing \n",
    "from sklearn.ensemble import ExtraTreesClassifier\n",
    "from sklearn.feature_selection import SelectFromModel\n",
    "from sklearn.model_selection import cross_val_score\n",
    "from sklearn.metrics import precision_recall_fscore_support\n",
    "from sklearn.metrics import accuracy_score\n",
    "from sklearn.model_selection import train_test_split\n",
    "from sklearn.svm import SVC\n",
    "from sklearn.svm import LinearSVC"
   ]
  },
  {
   "cell_type": "markdown",
   "metadata": {},
   "source": [
    "# Load data"
   ]
  },
  {
   "cell_type": "code",
   "execution_count": 97,
   "metadata": {
    "collapsed": true
   },
   "outputs": [],
   "source": [
    "#Define testfile\n",
    "test_file = 'Dataset/INDEX/ICEX Main (OMXIPI).xlsx'\n",
    "\n",
    "# Create dataframe\n",
    "df = pd.read_excel(test_file)"
   ]
  },
  {
   "cell_type": "markdown",
   "metadata": {},
   "source": [
    "# PreProcessing"
   ]
  },
  {
   "cell_type": "code",
   "execution_count": 98,
   "metadata": {
    "collapsed": false
   },
   "outputs": [
    {
     "name": "stderr",
     "output_type": "stream",
     "text": [
      "C:\\Users\\petur\\Anaconda3\\lib\\site-packages\\ipykernel\\__main__.py:3: FutureWarning: sort(columns=....) is deprecated, use sort_values(by=.....)\n",
      "  app.launch_new_instance()\n"
     ]
    }
   ],
   "source": [
    "# Convert timestamp to datetime\n",
    "df['Date'] = pd.to_datetime(df['Date']).apply(lambda x: x.date())\n",
    "df = df.sort('Date', ascending=True)\n",
    "\n",
    "# Create returns\n",
    "df['Return'] = df['Price'].pct_change(periods=1)\n",
    "df['Return_shift'] = df.Return.shift(1)\n",
    "df['Price_shift'] = df.Price.shift(1)\n",
    "df['Return3'] = df['Price_shift'].pct_change(periods=3)\n",
    "df['Return5'] = df['Price_shift'].pct_change(periods=5)\n",
    "df['Return10'] = df['Price_shift'].pct_change(periods=10)\n",
    "df['Return20'] = df['Price_shift'].pct_change(periods=20)\n",
    "df['Return50'] = df['Price_shift'].pct_change(periods=50)\n",
    "\n",
    "# Create moving price averages\n",
    "df['3DaySMA'] = df['Price_shift'].rolling(center=False,window =3).mean()\n",
    "df['5DaySMA'] = df['Price_shift'].rolling(center=False,window =5).mean()\n",
    "df['10DaySMA'] = df['Price_shift'].rolling(center=False,window=10).mean()\n",
    "df['20DaySMA'] = df['Price_shift'].rolling(center=False,window=20).mean()\n",
    "df['50DaySMA'] = df['Price_shift'].rolling(center=False,window=50).mean()\n",
    "\n",
    "# Exponential Weighted Moving Average\n",
    "df['EWMA'] = df.Price_shift.ewm(com=0.5,min_periods=0,adjust=True,ignore_na=False).mean()\n",
    "\n",
    "# Drop NAN\n",
    "# TODO: Find better approach\n",
    "df = df.dropna()"
   ]
  },
  {
   "cell_type": "markdown",
   "metadata": {},
   "source": [
    "# ML - PreProcessing"
   ]
  },
  {
   "cell_type": "code",
   "execution_count": 99,
   "metadata": {
    "collapsed": false
   },
   "outputs": [
    {
     "name": "stdout",
     "output_type": "stream",
     "text": [
      "1807 Total datapoints\n",
      "1355 Training datapoints\n",
      "452  Testing datapoints\n",
      "11 Features\n"
     ]
    }
   ],
   "source": [
    "df_new = df.copy()\n",
    "\n",
    "# Create labels [0: \"Down\", 1: \"Up\"]\n",
    "le = preprocessing.LabelEncoder()\n",
    "df_new['UpDown'] = np.where(df_new['Return']>=0, 'Up', 'Down')\n",
    "df_new.UpDown = le.fit(df_new.UpDown).transform(df_new.UpDown)\n",
    "\n",
    "\n",
    "# Define training features and label\n",
    "features = df_new.columns[10:-1]\n",
    "X = preprocessing.scale(df_new[features])    \n",
    "y = df_new.UpDown   \n",
    "\n",
    "# Train/Test split\n",
    "X_train, X_test, y_train, y_test = train_test_split(X, y, test_size=0.25, random_state=0)\n",
    "\n",
    "print(len(X), \"Total datapoints\")\n",
    "print(len(X_train), \"Training datapoints\")\n",
    "print(len(X_test), \" Testing datapoints\")\n",
    "print(len(df_new[features].columns), \"Features\")"
   ]
  },
  {
   "cell_type": "code",
   "execution_count": 100,
   "metadata": {
    "collapsed": true
   },
   "outputs": [],
   "source": [
    "# Print out evaluation metrics\n",
    "def print_evaluation(true_label, prediction):\n",
    "    accuracy = accuracy_score(y_test, prediction)\n",
    "    metrics = precision_recall_fscore_support(y_test, prediction, average='binary')\n",
    "\n",
    "    print(\"Accuracy:  \", accuracy)\n",
    "    print(\"Precision: \", metrics[0])\n",
    "    print(\"Recall:    \", metrics[1])\n",
    "    print(\"F1-score:  \", metrics[2])"
   ]
  },
  {
   "cell_type": "markdown",
   "metadata": {},
   "source": [
    "# Ensemble classifier"
   ]
  },
  {
   "cell_type": "code",
   "execution_count": 101,
   "metadata": {
    "collapsed": false
   },
   "outputs": [
    {
     "name": "stdout",
     "output_type": "stream",
     "text": [
      "Accuracy:   0.504424778761\n",
      "Precision:  0.526104417671\n",
      "Recall:     0.552742616034\n",
      "F1-score:   0.539094650206\n",
      "Seconds to run: 2.4174365997314453\n"
     ]
    }
   ],
   "source": [
    "time_Start =time.time()\n",
    "\n",
    "# Classifier\n",
    "clf = ExtraTreesClassifier(n_estimators=1000)\n",
    "clf = clf.fit(X_train, y_train)\n",
    "\n",
    "# Prediction\n",
    "prediction = clf.predict(X_test)\n",
    "print_evaluation(y_test, prediction)\n",
    "\n",
    "time_End = time.time()\n",
    "print(\"Seconds to run:\", time_End-time_Start )"
   ]
  },
  {
   "cell_type": "markdown",
   "metadata": {},
   "source": [
    "# Linear SVM Classifier"
   ]
  },
  {
   "cell_type": "code",
   "execution_count": 102,
   "metadata": {
    "collapsed": false
   },
   "outputs": [
    {
     "name": "stdout",
     "output_type": "stream",
     "text": [
      "Accuracy:   0.53982300885\n",
      "Precision:  0.534117647059\n",
      "Recall:     0.957805907173\n",
      "F1-score:   0.68580060423\n",
      "Seconds to run: 0.12029457092285156\n"
     ]
    }
   ],
   "source": [
    "# Start timer\n",
    "time_Start =time.time()\n",
    "\n",
    "# Classifier\n",
    "clf = LinearSVC()\n",
    "clf.fit(X_train, y_train)\n",
    "\n",
    "# Prediction\n",
    "prediction = clf.predict(X_test)\n",
    "print_evaluation(y_test, prediction)\n",
    "\n",
    "# End timer and results\n",
    "time_End = time.time()\n",
    "print(\"Seconds to run:\", time_End-time_Start )"
   ]
  },
  {
   "cell_type": "code",
   "execution_count": 108,
   "metadata": {
    "collapsed": false
   },
   "outputs": [
    {
     "name": "stdout",
     "output_type": "stream",
     "text": [
      "[[  0  27]\n",
      " [  1 425]]\n",
      "[1 1 1 1 1 1 1 1 1 1 1 1 1 1 1 1 1 1 1 1 1 1 1 1 0 0 1 1 1 1 1 1 1 1 1 1 1\n",
      " 1 0 1 1 1 1 1 1 1 1 1 1 1 1 1 1 1 1 1 1 1 1 1 1 1 1 1 1 1 1 1 1 1 1 1 1 1\n",
      " 1 1 1 0 1 1 1 1 1 1 1 1 0 1 1 1 1 0 1 1 1 1 0 1 1 1 1 1 1 1 0 1 1 1 1 0 1\n",
      " 1 1 1 1 1 1 1 1 1 0 1 1 1 1 0 1 1 1 1 1 1 1 1 1 1 1 1 1 1 1 1 1 1 1 1 1 1\n",
      " 1 1 1 1 1 1 1 1 1 1 1 1 1 1 1 1 1 1 1 1 1 1 1 1 1 1 1 1 1 1 1 1 1 1 1 1 1\n",
      " 1 1 0 1 1 0 1 1 1 1 1 1 1 1 1 1 1 1 1 1 1 1 1 1 1 1 1 0 1 1 1 1 1 1 1 1 1\n",
      " 1 1 1 1 1 1 1 1 1 1 1 1 1 1 1 1 1 1 1 0 1 0 1 1 1 1 1 1 1 0 1 1 1 1 1 1 1\n",
      " 1 1 1 1 1 1 1 1 1 1 1 1 1 1 1 1 1 1 1 1 1 1 1 1 0 1 1 1 1 1 1 1 1 1 1 0 1\n",
      " 1 1 1 1 1 1 1 1 1 1 1 1 1 1 1 1 1 1 1 1 1 1 1 1 1 1 1 1 0 1 1 1 1 1 1 1 1\n",
      " 1 1 1 1 1 0 1 1 1 1 1 1 1 1 1 1 1 1 1 0 1 1 1 1 1 1 1 1 1 1 1 1 1 1 1 1 1\n",
      " 1 1 1 1 1 1 1 1 1 1 0 1 1 1 1 1 1 1 1 1 1 0 1 1 1 1 1 1 1 1 1 1 1 1 1 1 1\n",
      " 1 1 1 1 1 1 1 1 1 1 1 1 1 1 1 1 1 1 1 1 0 1 1 1 1 1 1 1 0 1 1 1 1 1 1 1 1\n",
      " 1 1 0 1 1 1 1 1]\n"
     ]
    }
   ],
   "source": [
    "print(itemfreq(prediction))\n",
    "print(prediction)"
   ]
  },
  {
   "cell_type": "code",
   "execution_count": null,
   "metadata": {
    "collapsed": true
   },
   "outputs": [],
   "source": [
    "# Start timer\n",
    "time_Start =time.time()\n",
    "\n",
    "# Classifier\n",
    "clf = SVC()\n",
    "clf.fit(X_train, y_train)\n",
    "\n",
    "# Prediction\n",
    "prediction = clf.predict(X_test)\n",
    "print_evaluation(y_test, prediction)\n",
    "\n",
    "# End timer and results\n",
    "time_End = time.time()\n",
    "print(\"Seconds to run:\", time_End-time_Start )"
   ]
  },
  {
   "cell_type": "code",
   "execution_count": null,
   "metadata": {
    "collapsed": true
   },
   "outputs": [],
   "source": [
    "print(itemfreq(prediction))\n",
    "print(prediction)"
   ]
  },
  {
   "cell_type": "markdown",
   "metadata": {
    "collapsed": false
   },
   "source": [
    "# Feature importance"
   ]
  },
  {
   "cell_type": "code",
   "execution_count": 104,
   "metadata": {
    "collapsed": false
   },
   "outputs": [
    {
     "name": "stderr",
     "output_type": "stream",
     "text": [
      "C:\\Users\\petur\\Anaconda3\\lib\\site-packages\\ipykernel\\__main__.py:6: FutureWarning: sort(columns=....) is deprecated, use sort_values(by=.....)\n"
     ]
    },
    {
     "data": {
      "image/png": "[encoded data removed]",
      "text/plain": [
       "<matplotlib.figure.Figure at 0x243f3407550>"
      ]
     },
     "metadata": {},
     "output_type": "display_data"
    }
   ],
   "source": [
    "# Define features and importance\n",
    "df_feature = pd.DataFrame()\n",
    "df_feature['Features'] = df_new[features].columns\n",
    "weights = clf.coef_ * clf.coef_\n",
    "df_feature['Importance'] = weights[0]\n",
    "df_feature.sort(['Importance'],ascending=False)\n",
    "top5 = df_feature.Features[0:5]\n",
    "\n",
    "# Plot feature importance\n",
    "sns.barplot(y = 'Features', x = 'Importance', data=df_feature.sort_values(by='Importance', ascending=False))\n",
    "plt.show()"
   ]
  },
  {
   "cell_type": "code",
   "execution_count": 105,
   "metadata": {
    "collapsed": false
   },
   "outputs": [
    {
     "name": "stdout",
     "output_type": "stream",
     "text": [
      "[[  9.61633416e-06   4.15788543e-06   8.89104636e-06   4.80045227e-05\n",
      "    2.52240113e-03   1.06894785e-01   1.94839796e-02   8.03023240e-03\n",
      "    4.14379146e-01   2.74302219e-02   1.82216860e-01]]\n",
      "0      Return3\n",
      "1      Return5\n",
      "2     Return10\n",
      "3     Return20\n",
      "4     Return50\n",
      "5      3DaySMA\n",
      "6      5DaySMA\n",
      "7     10DaySMA\n",
      "8     20DaySMA\n",
      "9     50DaySMA\n",
      "10        EWMA\n",
      "Name: Features, dtype: object\n"
     ]
    }
   ],
   "source": [
    "weights = clf.coef_ * clf.coef_\n",
    "print(weights)\n",
    "print(df_feature['Features'])\n"
   ]
  },
  {
   "cell_type": "code",
   "execution_count": null,
   "metadata": {
    "collapsed": true
   },
   "outputs": [],
   "source": []
  },
  {
   "cell_type": "code",
   "execution_count": null,
   "metadata": {
    "collapsed": false
   },
   "outputs": [],
   "source": []
  },
  {
   "cell_type": "code",
   "execution_count": null,
   "metadata": {
    "collapsed": true
   },
   "outputs": [],
   "source": []
  },
  {
   "cell_type": "code",
   "execution_count": null,
   "metadata": {
    "collapsed": true
   },
   "outputs": [],
   "source": []
  }
 ],
 "metadata": {
  "anaconda-cloud": {},
  "kernelspec": {
   "display_name": "Python [default]",
   "language": "python",
   "name": "python3"
  },
  "language_info": {
   "codemirror_mode": {
    "name": "ipython",
    "version": 3
   },
   "file_extension": ".py",
   "mimetype": "text/x-python",
   "name": "python",
   "nbconvert_exporter": "python",
   "pygments_lexer": "ipython3",
   "version": "3.5.2"
  }
 },
 "nbformat": 4,
 "nbformat_minor": 2
}
