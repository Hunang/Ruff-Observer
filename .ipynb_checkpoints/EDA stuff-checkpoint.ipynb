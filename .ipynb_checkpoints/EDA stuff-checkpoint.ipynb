{
 "cells": [
  {
   "cell_type": "code",
   "execution_count": 2,
   "metadata": {
    "collapsed": true
   },
   "outputs": [],
   "source": [
    "import numpy as np\n",
    "import pandas as pd\n",
    "import seaborn as sns\n",
    "import matplotlib.pyplot as plt\n",
    "%matplotlib inline\n"
   ]
  },
  {
   "cell_type": "code",
   "execution_count": 3,
   "metadata": {
    "collapsed": true
   },
   "outputs": [],
   "source": [
    "df_train = pd.read_csv(\"MAIN_TRAIN_2.CSV\", index_col='Date', header=0)\n"
   ]
  },
  {
   "cell_type": "code",
   "execution_count": 4,
   "metadata": {},
   "outputs": [
    {
     "data": {
      "text/html": [
       "<div>\n",
       "<style>\n",
       "    .dataframe thead tr:only-child th {\n",
       "        text-align: right;\n",
       "    }\n",
       "\n",
       "    .dataframe thead th {\n",
       "        text-align: left;\n",
       "    }\n",
       "\n",
       "    .dataframe tbody tr th {\n",
       "        vertical-align: top;\n",
       "    }\n",
       "</style>\n",
       "<table border=\"1\" class=\"dataframe\">\n",
       "  <thead>\n",
       "    <tr style=\"text-align: right;\">\n",
       "      <th></th>\n",
       "      <th>EIK</th>\n",
       "      <th>EIM</th>\n",
       "      <th>GRND</th>\n",
       "      <th>HAGA</th>\n",
       "      <th>ICEAIR</th>\n",
       "      <th>MARL</th>\n",
       "      <th>N1</th>\n",
       "      <th>NYHR</th>\n",
       "      <th>OSSRu</th>\n",
       "      <th>REGINN</th>\n",
       "      <th>...</th>\n",
       "      <th>GBP-ISK</th>\n",
       "      <th>INR-ISK</th>\n",
       "      <th>JPY-ISK</th>\n",
       "      <th>NOK-ISK</th>\n",
       "      <th>NZD-ISK</th>\n",
       "      <th>PLN-ISK</th>\n",
       "      <th>RUB-ISK</th>\n",
       "      <th>SEK-ISK</th>\n",
       "      <th>USD-ISK</th>\n",
       "      <th>Target</th>\n",
       "    </tr>\n",
       "    <tr>\n",
       "      <th>Date</th>\n",
       "      <th></th>\n",
       "      <th></th>\n",
       "      <th></th>\n",
       "      <th></th>\n",
       "      <th></th>\n",
       "      <th></th>\n",
       "      <th></th>\n",
       "      <th></th>\n",
       "      <th></th>\n",
       "      <th></th>\n",
       "      <th></th>\n",
       "      <th></th>\n",
       "      <th></th>\n",
       "      <th></th>\n",
       "      <th></th>\n",
       "      <th></th>\n",
       "      <th></th>\n",
       "      <th></th>\n",
       "      <th></th>\n",
       "      <th></th>\n",
       "      <th></th>\n",
       "    </tr>\n",
       "  </thead>\n",
       "  <tbody>\n",
       "    <tr>\n",
       "      <th>2010-01-04</th>\n",
       "      <td>0.0</td>\n",
       "      <td>0.0</td>\n",
       "      <td>5.2</td>\n",
       "      <td>0.0</td>\n",
       "      <td>3.65</td>\n",
       "      <td>62.2</td>\n",
       "      <td>0.0</td>\n",
       "      <td>11.0</td>\n",
       "      <td>152.5</td>\n",
       "      <td>0.0</td>\n",
       "      <td>...</td>\n",
       "      <td>201.03</td>\n",
       "      <td>2.6339</td>\n",
       "      <td>1.3489</td>\n",
       "      <td>21.87</td>\n",
       "      <td>91.74</td>\n",
       "      <td>44.00</td>\n",
       "      <td>4.0221</td>\n",
       "      <td>17.6815</td>\n",
       "      <td>124.885</td>\n",
       "      <td>1</td>\n",
       "    </tr>\n",
       "    <tr>\n",
       "      <th>2010-01-05</th>\n",
       "      <td>0.0</td>\n",
       "      <td>0.0</td>\n",
       "      <td>5.2</td>\n",
       "      <td>0.0</td>\n",
       "      <td>3.65</td>\n",
       "      <td>62.2</td>\n",
       "      <td>0.0</td>\n",
       "      <td>11.0</td>\n",
       "      <td>153.5</td>\n",
       "      <td>0.0</td>\n",
       "      <td>...</td>\n",
       "      <td>200.22</td>\n",
       "      <td>2.6351</td>\n",
       "      <td>1.3647</td>\n",
       "      <td>21.92</td>\n",
       "      <td>91.92</td>\n",
       "      <td>43.96</td>\n",
       "      <td>4.0389</td>\n",
       "      <td>17.6105</td>\n",
       "      <td>125.165</td>\n",
       "      <td>1</td>\n",
       "    </tr>\n",
       "    <tr>\n",
       "      <th>2010-01-06</th>\n",
       "      <td>0.0</td>\n",
       "      <td>0.0</td>\n",
       "      <td>5.2</td>\n",
       "      <td>0.0</td>\n",
       "      <td>3.65</td>\n",
       "      <td>62.2</td>\n",
       "      <td>0.0</td>\n",
       "      <td>11.0</td>\n",
       "      <td>156.0</td>\n",
       "      <td>0.0</td>\n",
       "      <td>...</td>\n",
       "      <td>200.26</td>\n",
       "      <td>2.6457</td>\n",
       "      <td>1.3532</td>\n",
       "      <td>22.06</td>\n",
       "      <td>92.20</td>\n",
       "      <td>43.98</td>\n",
       "      <td>4.0196</td>\n",
       "      <td>17.7150</td>\n",
       "      <td>124.965</td>\n",
       "      <td>1</td>\n",
       "    </tr>\n",
       "    <tr>\n",
       "      <th>2010-01-07</th>\n",
       "      <td>0.0</td>\n",
       "      <td>0.0</td>\n",
       "      <td>5.2</td>\n",
       "      <td>0.0</td>\n",
       "      <td>3.65</td>\n",
       "      <td>61.5</td>\n",
       "      <td>0.0</td>\n",
       "      <td>11.0</td>\n",
       "      <td>156.0</td>\n",
       "      <td>0.0</td>\n",
       "      <td>...</td>\n",
       "      <td>200.18</td>\n",
       "      <td>2.6491</td>\n",
       "      <td>1.3462</td>\n",
       "      <td>22.07</td>\n",
       "      <td>92.02</td>\n",
       "      <td>43.91</td>\n",
       "      <td>4.0216</td>\n",
       "      <td>17.6420</td>\n",
       "      <td>126.270</td>\n",
       "      <td>1</td>\n",
       "    </tr>\n",
       "    <tr>\n",
       "      <th>2010-01-08</th>\n",
       "      <td>0.0</td>\n",
       "      <td>0.0</td>\n",
       "      <td>5.2</td>\n",
       "      <td>0.0</td>\n",
       "      <td>3.65</td>\n",
       "      <td>61.5</td>\n",
       "      <td>0.0</td>\n",
       "      <td>11.0</td>\n",
       "      <td>157.5</td>\n",
       "      <td>0.0</td>\n",
       "      <td>...</td>\n",
       "      <td>200.37</td>\n",
       "      <td>2.6515</td>\n",
       "      <td>1.3496</td>\n",
       "      <td>22.06</td>\n",
       "      <td>92.09</td>\n",
       "      <td>44.34</td>\n",
       "      <td>4.0430</td>\n",
       "      <td>17.6680</td>\n",
       "      <td>125.005</td>\n",
       "      <td>0</td>\n",
       "    </tr>\n",
       "  </tbody>\n",
       "</table>\n",
       "<p>5 rows × 53 columns</p>\n",
       "</div>"
      ],
      "text/plain": [
       "            EIK  EIM  GRND  HAGA  ICEAIR  MARL   N1  NYHR  OSSRu  REGINN  \\\n",
       "Date                                                                       \n",
       "2010-01-04  0.0  0.0   5.2   0.0    3.65  62.2  0.0  11.0  152.5     0.0   \n",
       "2010-01-05  0.0  0.0   5.2   0.0    3.65  62.2  0.0  11.0  153.5     0.0   \n",
       "2010-01-06  0.0  0.0   5.2   0.0    3.65  62.2  0.0  11.0  156.0     0.0   \n",
       "2010-01-07  0.0  0.0   5.2   0.0    3.65  61.5  0.0  11.0  156.0     0.0   \n",
       "2010-01-08  0.0  0.0   5.2   0.0    3.65  61.5  0.0  11.0  157.5     0.0   \n",
       "\n",
       "             ...    GBP-ISK  INR-ISK  JPY-ISK  NOK-ISK  NZD-ISK  PLN-ISK  \\\n",
       "Date         ...                                                           \n",
       "2010-01-04   ...     201.03   2.6339   1.3489    21.87    91.74    44.00   \n",
       "2010-01-05   ...     200.22   2.6351   1.3647    21.92    91.92    43.96   \n",
       "2010-01-06   ...     200.26   2.6457   1.3532    22.06    92.20    43.98   \n",
       "2010-01-07   ...     200.18   2.6491   1.3462    22.07    92.02    43.91   \n",
       "2010-01-08   ...     200.37   2.6515   1.3496    22.06    92.09    44.34   \n",
       "\n",
       "            RUB-ISK  SEK-ISK  USD-ISK  Target  \n",
       "Date                                           \n",
       "2010-01-04   4.0221  17.6815  124.885       1  \n",
       "2010-01-05   4.0389  17.6105  125.165       1  \n",
       "2010-01-06   4.0196  17.7150  124.965       1  \n",
       "2010-01-07   4.0216  17.6420  126.270       1  \n",
       "2010-01-08   4.0430  17.6680  125.005       0  \n",
       "\n",
       "[5 rows x 53 columns]"
      ]
     },
     "execution_count": 4,
     "metadata": {},
     "output_type": "execute_result"
    }
   ],
   "source": [
    "df_train.head()"
   ]
  },
  {
   "cell_type": "code",
   "execution_count": 5,
   "metadata": {
    "scrolled": true
   },
   "outputs": [
    {
     "data": {
      "text/plain": [
       "<matplotlib.axes._subplots.AxesSubplot at 0x1a2ee887588>"
      ]
     },
     "execution_count": 5,
     "metadata": {},
     "output_type": "execute_result"
    },
    {
     "data": {
      "image/png": "[encoded data removed]",
      "text/plain": [
       "<matplotlib.figure.Figure at 0x1a2ee887c50>"
      ]
     },
     "metadata": {},
     "output_type": "display_data"
    }
   ],
   "source": [
    "df_train['OMXIPI'].plot()"
   ]
  },
  {
   "cell_type": "code",
   "execution_count": 6,
   "metadata": {},
   "outputs": [],
   "source": [
    "df_kaupholl = pd.read_csv(\"Dataset_code/Kaupholl_price.CSV\", index_col='Date', header=0)"
   ]
  },
  {
   "cell_type": "code",
   "execution_count": 8,
   "metadata": {},
   "outputs": [],
   "source": [
    "tickers = ['EIK','EIM','GRND','HAGA','ICEAIR','MARL',\n",
    "               'N1','NYHR','OSSRu','REGINN','REITIR','SIMINN',\n",
    "               'SJOVA','TM','VIS','VOICE']"
   ]
  },
  {
   "cell_type": "code",
   "execution_count": null,
   "metadata": {
    "collapsed": true
   },
   "outputs": [],
   "source": [
    "df_train[tickers].plot()"
   ]
  }
 ],
 "metadata": {
  "kernelspec": {
   "display_name": "Python 3",
   "language": "python",
   "name": "python3"
  },
  "language_info": {
   "codemirror_mode": {
    "name": "ipython",
    "version": 3
   },
   "file_extension": ".py",
   "mimetype": "text/x-python",
   "name": "python",
   "nbconvert_exporter": "python",
   "pygments_lexer": "ipython3",
   "version": "3.6.1"
  }
 },
 "nbformat": 4,
 "nbformat_minor": 2
}
